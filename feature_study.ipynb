{
  "nbformat": 4,
  "nbformat_minor": 0,
  "metadata": {
    "colab": {
      "name": "Untitled0.ipynb",
      "provenance": []
    },
    "kernelspec": {
      "name": "python3",
      "display_name": "Python 3"
    }
  },
  "cells": [
    {
      "cell_type": "code",
      "metadata": {
        "id": "uuVULuGIQJfJ",
        "colab_type": "code",
        "colab": {}
      },
      "source": [
        "# imports for the random forest\n",
        "import numpy as np\n",
        "import scipy.stats as stats\n",
        "import pandas as pd\n",
        "import glob\n",
        "import csv\n",
        "import matplotlib.pyplot as plt\n",
        "\n",
        "\n",
        "import sklearn\n",
        "from sklearn.linear_model import LinearRegression\n",
        "from sklearn.ensemble import GradientBoostingRegressor\n",
        "from sklearn.model_selection import train_test_split\n",
        "from sklearn.model_selection import cross_val_score\n",
        "from sklearn.metrics import accuracy_score\n",
        "from sklearn import metrics\n",
        "\n",
        "\n",
        "from sklearn.model_selection import KFold\n",
        "from sklearn.model_selection import cross_val_score\n",
        "from sklearn.ensemble import RandomForestRegressor"
      ],
      "execution_count": 310,
      "outputs": []
    },
    {
      "cell_type": "code",
      "metadata": {
        "id": "oaIkCGrqQb1L",
        "colab_type": "code",
        "colab": {}
      },
      "source": [
        "## Load in full data set\n",
        "# dateTime = 0 ', 'Kp= 1', 'Dst=2', 'dens=3', 'velo=4', 'Pdyn=5', 'ByIMF=6', 'BzIMF=7',\n",
        "#        'mep06=8', 'mep05', 'mep01', 'me03', 'Lval', 'mlt', 'lat', 'lon'],\n",
        "maxset = pd.read_csv(\"/content/csv_data/metop_rad_belt_passes_max.csv\")\n",
        "minset = pd.read_csv(\"/content/csv_data/metop_rad_belt_passes_min.csv\") \n",
        "medset = pd.read_csv(\"/content/csv_data/metop_rad_belt_passes_median.csv\") \n",
        "\n",
        "dataset=maxset\n",
        "dataset.columns = ['maxdateTime', 'maxKp', 'maxDst', 'maxdens', 'maxvelo', \n",
        "                   'maxPdyn', 'maxByIMF', 'maxBzIMF', 'maxmep06', 'maxmep05', \n",
        "                   'maxmep01', 'maxme03', 'maxLval', 'maxmlt', 'maxlat', \n",
        "                   'maxlon']\n",
        "dataset['MinBz'] = minset.BzIMF\n",
        "dataset['MinBy'] = minset.ByIMF\n",
        "dataset['medKp'] = medset.Kp\n",
        "dataset['medDst'] = medset.Dst\n",
        "dataset['meddens'] = medset.dens\n",
        "dataset['medvelo'] = medset.velo\n",
        "dataset['medPdyn'] = medset.Pdyn\n",
        "dataset['medmep06'] = medset.mep06\n",
        "dataset['maxmomentum'] = dataset.maxdens * dataset.maxvelo\n",
        "dataset['medmomentum'] = dataset.meddens * dataset.medvelo\n",
        "\n",
        "dropcolumns = ['maxdateTime', 'maxmep05', 'maxmep01', 'maxme03', 'maxLval', \n",
        "               'maxmlt', 'maxlat', 'maxlon']\n",
        "dataset = dataset.drop(columns=dropcolumns)\n",
        "\n",
        "# ['maxKp', 'maxDst', 'maxdens', 'maxvelo', 'maxPdyn', 'maxByIMF', 'maxBzIMF', \n",
        "#    'maxmep06', 'MinBz', 'MinBy', 'medKp', 'medDst', 'meddens', \n",
        "#    'medvelo', 'medPdyn', 'medmep06', 'maxmomentum', 'medmomentum']\n",
        " \n",
        "#moredrops = [0,1,2]\n",
        "#dataset = dataset.drop(columns = dataset.columns.values[moredrops])\n"
      ],
      "execution_count": 328,
      "outputs": []
    },
    {
      "cell_type": "code",
      "metadata": {
        "id": "iXJQX107Q5C3",
        "colab_type": "code",
        "colab": {}
      },
      "source": [
        "# loading in the data and separating out the x and y\n",
        "# and the train and test set \n",
        "\n",
        "shufval = 0    # set 1 to shuffle, 0 to window\n",
        "testfrac = .8  # fraction of set to use for training\n",
        "boolval = 0    # 0 for linear regression, 1 for boolean threshold\n",
        "boolthresh = 1.0  # if boolean regression, set threshold of mep06 to count as an event\n",
        "setlen = len(dataset)\n",
        "trainmed = 1  # if 0, train on the max of mep06, if 1, train on the median instead\n",
        "estimators = 1000\n",
        "\n",
        "if (shufval):\n",
        "  train_dataset = dataset.sample(frac=testfrac,random_state=0)\n",
        "  test_dataset = dataset.drop(train_dataset.index)\n",
        "else:\n",
        "  train_dataset = dataset[:round(testfrac*setlen)]\n",
        "  test_dataset = dataset[round(testfrac*setlen):]\n",
        "\n",
        "if (trainmed):\n",
        "  y_train = train_dataset.pop('medmep06') \n",
        "  y_test = test_dataset.pop('medmep06')\n",
        "  x_train = train_dataset.drop(columns = 'maxmep06')\n",
        "  x_test = test_dataset.drop(columns = 'maxmep06')\n",
        "else: \n",
        "  y_train = train_dataset.pop('maxmep06') \n",
        "  y_test = test_dataset.pop('maxmep06')\n",
        "  x_train = train_dataset.drop(columns = 'medmep06')\n",
        "  x_test = test_dataset.drop(columns = 'medmep06')\n",
        "\n",
        "if (boolval):\n",
        "  y_train = (y_train>boolthresh)*1\n",
        "  y_test = (y_test>boolthresh)*1\n",
        "\n",
        "regressor = RandomForestRegressor(n_estimators = estimators,  oob_score = True, random_state = 0) \n",
        "regressor.fit(x_train, y_train)  \n",
        "Y_pred = regressor.predict(x_test)\n",
        "if (boolval):\n",
        " Y_pred = (Y_pred>boolthresh)*1  \n",
        "mae=metrics.mean_absolute_error(y_test, Y_pred)\n",
        "mse=metrics.mean_squared_error(y_test, Y_pred)\n",
        "trainsc = regressor.score(x_train, y_train) \n",
        "testsc = regressor.score(x_test, y_test)\n",
        "regoob = regressor.oob_score_\n",
        "importances = regressor.feature_importances_\n",
        "std = np.std([tree.feature_importances_ for tree in regressor.estimators_],\n",
        "             axis=0)\n",
        "indices = np.argsort(importances)[::-1]"
      ],
      "execution_count": 322,
      "outputs": []
    },
    {
      "cell_type": "code",
      "metadata": {
        "id": "STJpYoLqrP7a",
        "colab_type": "code",
        "colab": {
          "base_uri": "https://localhost:8080/",
          "height": 85
        },
        "outputId": "8c02938c-3b97-4bb8-cda1-f63e95e31f91"
      },
      "source": [
        "## Evaluate performance\n",
        "print(\"mean absolute error: %f;  mean squared error: %f\" % (mae, mse))\n",
        "print('R^2 Training Score: {:.2f} \\nOOB Score: {:.2f} \\nR^2 Validation Score: {:.2f}'.format(regressor.score(x_train, y_train), \n",
        "                                                                                             regressor.oob_score_,\n",
        "                                                                                             regressor.score(x_test, y_test)))"
      ],
      "execution_count": 323,
      "outputs": [
        {
          "output_type": "stream",
          "text": [
            "mean absolute error: 0.384973;  mean squared error: 0.265634\n",
            "R^2 Training Score: 0.85 \n",
            "OOB Score: -0.07 \n",
            "R^2 Validation Score: -3.58\n"
          ],
          "name": "stdout"
        }
      ]
    },
    {
      "cell_type": "code",
      "metadata": {
        "id": "Zc5Lw2QOmF6p",
        "colab_type": "code",
        "colab": {
          "base_uri": "https://localhost:8080/",
          "height": 587
        },
        "outputId": "fa764303-da92-49a8-ef53-b6bafc7b11a0"
      },
      "source": [
        "print(\"Feature ranking:\")\n",
        "\n",
        "for f in range(x_train.shape[1]):\n",
        "    print(\"%d. feature %s (%f)\" % (f + 1, x_test.columns.values[round(f)], importances[indices[f]]))\n",
        "\n",
        "# Plot the impurity-based feature importances of the forest\n",
        "plt.figure()\n",
        "plt.title(\"Feature importances\")\n",
        "plt.bar(range(x_train.shape[1]), importances[indices],\n",
        "        color=\"r\", yerr=std[indices], align=\"center\")\n",
        "plt.xticks(range(x_train.shape[1]), indices)\n",
        "plt.xlim([-1, x_train.shape[1]])\n",
        "plt.show()\n",
        "\n",
        "print(dataset.maxmomentum.median())"
      ],
      "execution_count": 324,
      "outputs": [
        {
          "output_type": "stream",
          "text": [
            "Feature ranking:\n",
            "1. feature maxKp (0.123993)\n",
            "2. feature maxDst (0.116868)\n",
            "3. feature maxdens (0.114557)\n",
            "4. feature maxvelo (0.109581)\n",
            "5. feature maxPdyn (0.061769)\n",
            "6. feature maxByIMF (0.058479)\n",
            "7. feature maxBzIMF (0.057728)\n",
            "8. feature MinBz (0.055760)\n",
            "9. feature MinBy (0.048476)\n",
            "10. feature medKp (0.048355)\n",
            "11. feature medDst (0.043451)\n",
            "12. feature meddens (0.039026)\n",
            "13. feature medvelo (0.033950)\n",
            "14. feature medPdyn (0.033004)\n",
            "15. feature maxmomentum (0.029791)\n",
            "16. feature medmomentum (0.025213)\n"
          ],
          "name": "stdout"
        },
        {
          "output_type": "display_data",
          "data": {
            "image/png": "[encoded data removed]",
            "text/plain": [
              "<Figure size 432x288 with 1 Axes>"
            ]
          },
          "metadata": {
            "tags": [],
            "needs_background": "light"
          }
        },
        {
          "output_type": "stream",
          "text": [
            "1738.9147615498555\n"
          ],
          "name": "stdout"
        }
      ]
    },
    {
      "cell_type": "code",
      "metadata": {
        "id": "A4pF_1dAhfVy",
        "colab_type": "code",
        "colab": {}
      },
      "source": [
        "# set up evaluation table\n",
        "# parameters are [shufval, testfrac, boolval, boolthresh, setlen, trainmed, estimators]\n",
        "params = np.array([shufval, testfrac, boolval, boolthresh, setlen, trainmed, estimators])\n",
        "eval_table = pd.DataFrame([params,params])\n",
        "eval_table.shape\n",
        "eval_table.index = ['mae', 'mse']\n",
        "eval_table.columns = ['shufval', 'testfrac', 'boolval', 'boolthresh', 'setlen', 'trainmed', 'estimators']\n"
      ],
      "execution_count": 315,
      "outputs": []
    },
    {
      "cell_type": "code",
      "metadata": {
        "id": "enkbZdYoYcIO",
        "colab_type": "code",
        "colab": {
          "base_uri": "https://localhost:8080/",
          "height": 282
        },
        "outputId": "b3148fa3-3c57-4cea-bcf5-7c16e4831da2"
      },
      "source": [
        "plt.plot(dataset.medmomentum)"
      ],
      "execution_count": 316,
      "outputs": [
        {
          "output_type": "execute_result",
          "data": {
            "text/plain": [
              "[<matplotlib.lines.Line2D at 0x7f7e5b152240>]"
            ]
          },
          "metadata": {
            "tags": []
          },
          "execution_count": 316
        },
        {
          "output_type": "display_data",
          "data": {
            "image/png": "[encoded data removed]",
            "text/plain": [
              "<Figure size 432x288 with 1 Axes>"
            ]
          },
          "metadata": {
            "tags": [],
            "needs_background": "light"
          }
        }
      ]
    },
    {
      "cell_type": "code",
      "metadata": {
        "id": "aYp3pPQqtQFE",
        "colab_type": "code",
        "colab": {}
      },
      "source": [
        ""
      ],
      "execution_count": 316,
      "outputs": []
    }
  ]
}