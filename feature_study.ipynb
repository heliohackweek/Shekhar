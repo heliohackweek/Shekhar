{
  "nbformat": 4,
  "nbformat_minor": 0,
  "metadata": {
    "colab": {
      "name": "feature_study.ipynb",
      "provenance": [],
      "collapsed_sections": []
    },
    "kernelspec": {
      "name": "python3",
      "display_name": "Python 3"
    }
  },
  "cells": [
    {
      "cell_type": "code",
      "metadata": {
        "id": "uuVULuGIQJfJ",
        "colab_type": "code",
        "colab": {}
      },
      "source": [
        "# imports for the random forest\n",
        "import numpy as np\n",
        "import scipy.stats as stats\n",
        "import pandas as pd\n",
        "import glob\n",
        "import csv\n",
        "import matplotlib.pyplot as plt\n",
        "\n",
        "\n",
        "import sklearn\n",
        "from sklearn.linear_model import LinearRegression\n",
        "from sklearn.ensemble import GradientBoostingRegressor\n",
        "from sklearn.model_selection import train_test_split\n",
        "from sklearn.model_selection import cross_val_score\n",
        "from sklearn.metrics import accuracy_score\n",
        "from sklearn import metrics\n",
        "\n",
        "\n",
        "from sklearn.model_selection import KFold\n",
        "from sklearn.model_selection import cross_val_score\n",
        "from sklearn.ensemble import RandomForestRegressor"
      ],
      "execution_count": 310,
      "outputs": []
    },
    {
      "cell_type": "code",
      "metadata": {
        "id": "oaIkCGrqQb1L",
        "colab_type": "code",
        "colab": {}
      },
      "source": [
        "## Load in full data set\n",
        "# dateTime = 0 ', 'Kp= 1', 'Dst=2', 'dens=3', 'velo=4', 'Pdyn=5', 'ByIMF=6', 'BzIMF=7',\n",
        "#        'mep06=8', 'mep05', 'mep01', 'me03', 'Lval', 'mlt', 'lat', 'lon'],\n",
        "maxset = pd.read_csv(\"/content/csv_data/metop_rad_belt_passes_max.csv\")\n",
        "minset = pd.read_csv(\"/content/csv_data/metop_rad_belt_passes_min.csv\") \n",
        "medset = pd.read_csv(\"/content/csv_data/metop_rad_belt_passes_median.csv\") \n",
        "\n",
        "dataset=maxset\n",
        "dataset.columns = ['maxdateTime', 'maxKp', 'maxDst', 'maxdens', 'maxvelo', \n",
        "                   'maxPdyn', 'maxByIMF', 'maxBzIMF', 'maxmep06', 'maxmep05', \n",
        "                   'maxmep01', 'maxme03', 'maxLval', 'maxmlt', 'maxlat', \n",
        "                   'maxlon']\n",
        "dataset['MinBz'] = minset.BzIMF\n",
        "dataset['MinBy'] = minset.ByIMF\n",
        "dataset['medKp'] = medset.Kp\n",
        "dataset['medDst'] = medset.Dst\n",
        "dataset['meddens'] = medset.dens\n",
        "dataset['medvelo'] = medset.velo\n",
        "dataset['medPdyn'] = medset.Pdyn\n",
        "dataset['medmep06'] = medset.mep06\n",
        "dataset['maxmomentum'] = dataset.maxdens * dataset.maxvelo\n",
        "dataset['medmomentum'] = dataset.meddens * dataset.medvelo\n",
        "\n",
        "dropcolumns = ['maxdateTime', 'maxmep05', 'maxmep01', 'maxme03', 'maxLval', \n",
        "               'maxmlt', 'maxlat', 'maxlon']\n",
        "dataset = dataset.drop(columns=dropcolumns)\n",
        "\n",
        "# ['maxKp', 'maxDst', 'maxdens', 'maxvelo', 'maxPdyn', 'maxByIMF', 'maxBzIMF', \n",
        "#    'maxmep06', 'MinBz', 'MinBy', 'medKp', 'medDst', 'meddens', \n",
        "#    'medvelo', 'medPdyn', 'medmep06', 'maxmomentum', 'medmomentum']\n",
        " \n",
        "#moredrops = [0,1,2]\n",
        "#dataset = dataset.drop(columns = dataset.columns.values[moredrops])\n"
      ],
      "execution_count": 384,
      "outputs": []
    },
    {
      "cell_type": "code",
      "metadata": {
        "id": "iXJQX107Q5C3",
        "colab_type": "code",
        "colab": {}
      },
      "source": [
        "# loading in the data and separating out the x and y\n",
        "# and the train and test set \n",
        "\n",
        "testfrac = .8  # fraction of set to use for training\n",
        "boolval = 1    # 0 for linear regression, 1 for boolean threshold\n",
        "boolthresh = .8  # if boolean regression, set threshold of mep06 to count as an event\n",
        "shufval = 0    # set 1 to separate testing set through shuffling, 0 to window\n",
        "trainmed = 1  # if 0, train on the max of mep06, if 1, train on the median instead\n",
        "estimators = 300  # number of estimators in random forest\n",
        "setlen = len(dataset)\n",
        "\n",
        "if (shufval):\n",
        "  train_dataset = dataset.sample(frac=testfrac,random_state=0)\n",
        "  test_dataset = dataset.drop(train_dataset.index)\n",
        "else:\n",
        "  train_dataset = dataset[:round(testfrac*setlen)]\n",
        "  test_dataset = dataset[round(testfrac*setlen):]\n",
        "\n",
        "if (trainmed):\n",
        "  y_train = train_dataset.pop('medmep06') \n",
        "  y_test = test_dataset.pop('medmep06')\n",
        "  x_train = train_dataset.drop(columns = 'maxmep06')\n",
        "  x_test = test_dataset.drop(columns = 'maxmep06')\n",
        "else: \n",
        "  y_train = train_dataset.pop('maxmep06') \n",
        "  y_test = test_dataset.pop('maxmep06')\n",
        "  x_train = train_dataset.drop(columns = 'medmep06')\n",
        "  x_test = test_dataset.drop(columns = 'medmep06')\n",
        "\n",
        "if (boolval):\n",
        "  y_train = (y_train>boolthresh)*1.\n",
        "  y_test = (y_test>boolthresh)*1.\n",
        "\n",
        "regressor = RandomForestRegressor(n_estimators = estimators,  oob_score = True, random_state = 0) \n",
        "regressor.fit(x_train, y_train)  \n",
        "Y_pred = regressor.predict(x_test)\n",
        "if (boolval):\n",
        "  Y_pred_bool = (Y_pred>boolthresh)*1.  \n",
        "mae=metrics.mean_absolute_error(y_test, Y_pred_bool)\n",
        "mse=metrics.mean_squared_error(y_test, Y_pred_bool)\n",
        "trainsc = regressor.score(x_train, y_train) \n",
        "testsc = regressor.score(x_test, y_test)\n",
        "regoob = regressor.oob_score_\n",
        "importances = regressor.feature_importances_\n",
        "std = np.std([tree.feature_importances_ for tree in regressor.estimators_],\n",
        "             axis=0)\n",
        "indices = np.argsort(importances)[::-1]"
      ],
      "execution_count": 399,
      "outputs": []
    },
    {
      "cell_type": "code",
      "metadata": {
        "id": "STJpYoLqrP7a",
        "colab_type": "code",
        "colab": {
          "base_uri": "https://localhost:8080/",
          "height": 85
        },
        "outputId": "547678e9-525f-45ff-9c9a-d11fb4a7ea41"
      },
      "source": [
        "## Evaluate performance\n",
        "print(\"mean absolute error: %f;  mean squared error: %f\" % (mae, mse))\n",
        "print('R^2 Training Score: {:.2f} \\nOOB Score: {:.2f} \\nR^2 Test Score: {:.2f}'.format(regressor.score(x_train, y_train),                                                                                   regressor.oob_score_,\n",
        "                                                                                             regressor.score(x_test, y_test)))"
      ],
      "execution_count": 397,
      "outputs": [
        {
          "output_type": "stream",
          "text": [
            "mean absolute error: 0.068783;  mean squared error: 0.068783\n",
            "R^2 Training Score: 0.86 \n",
            "OOB Score: -0.05 \n",
            "R^2 Test Score: -0.25\n"
          ],
          "name": "stdout"
        }
      ]
    },
    {
      "cell_type": "code",
      "metadata": {
        "id": "Zc5Lw2QOmF6p",
        "colab_type": "code",
        "colab": {
          "base_uri": "https://localhost:8080/",
          "height": 570
        },
        "outputId": "f8a37dea-00f4-40bd-d2fd-e8dc1a6955ec"
      },
      "source": [
        "print(\"Feature ranking:\")\n",
        "\n",
        "for f in range(x_train.shape[1]):\n",
        "    print(\"%d. feature %s (%f)\" % (f + 1, x_test.columns.values[round(f)], importances[indices[f]]))\n",
        "\n",
        "# Plot the impurity-based feature importances of the forest\n",
        "plt.figure()\n",
        "plt.title(\"Feature importances\")\n",
        "plt.bar(range(x_train.shape[1]), importances[indices],\n",
        "        color=\"r\", yerr=std[indices], align=\"center\")\n",
        "plt.xticks(range(x_train.shape[1]), indices)\n",
        "plt.xlim([-1, x_train.shape[1]])\n",
        "plt.show()"
      ],
      "execution_count": 395,
      "outputs": [
        {
          "output_type": "stream",
          "text": [
            "Feature ranking:\n",
            "1. feature maxKp (0.113710)\n",
            "2. feature maxDst (0.096234)\n",
            "3. feature maxdens (0.079539)\n",
            "4. feature maxvelo (0.072210)\n",
            "5. feature maxPdyn (0.072101)\n",
            "6. feature maxByIMF (0.067053)\n",
            "7. feature maxBzIMF (0.059849)\n",
            "8. feature MinBz (0.059122)\n",
            "9. feature MinBy (0.054894)\n",
            "10. feature medKp (0.054842)\n",
            "11. feature medDst (0.053464)\n",
            "12. feature meddens (0.053427)\n",
            "13. feature medvelo (0.044236)\n",
            "14. feature medPdyn (0.043146)\n",
            "15. feature maxmomentum (0.041549)\n",
            "16. feature medmomentum (0.034623)\n"
          ],
          "name": "stdout"
        },
        {
          "output_type": "display_data",
          "data": {
            "image/png": "[encoded data removed]",
            "text/plain": [
              "<Figure size 432x288 with 1 Axes>"
            ]
          },
          "metadata": {
            "tags": [],
            "needs_background": "light"
          }
        }
      ]
    },
    {
      "cell_type": "code",
      "metadata": {
        "id": "aYp3pPQqtQFE",
        "colab_type": "code",
        "colab": {
          "base_uri": "https://localhost:8080/",
          "height": 34
        },
        "outputId": "05d33149-f98c-42ac-a9f6-aa59f556cfa9"
      },
      "source": [
        "cm = sklearn.metrics.confusion_matrix(y_test, Y_pred_bool).ravel()\n",
        "# true negatives, false positives, false negatives, true positives\n",
        "print(cm)"
      ],
      "execution_count": 396,
      "outputs": [
        {
          "output_type": "stream",
          "text": [
            "[176   0  13   0]\n"
          ],
          "name": "stdout"
        }
      ]
    },
    {
      "cell_type": "code",
      "metadata": {
        "id": "A4pF_1dAhfVy",
        "colab_type": "code",
        "colab": {}
      },
      "source": [
        "# set up evaluation table\n",
        "# parameters are [shufval, testfrac, boolval, boolthresh, setlen, trainmed, estimators]\n",
        "params = np.array([shufval, testfrac, boolval, boolthresh, setlen, trainmed, estimators])\n",
        "eval_table = pd.DataFrame([params, params, params, params, params])\n",
        "eval_table.shape\n",
        "eval_table.index = ['mae', 'mse', 'r2train', 'r2test', 'oob']\n",
        "eval_table.columns = ['shufval', 'testfrac', 'boolval', 'boolthresh', 'setlen', 'trainmed', 'estimators']\n"
      ],
      "execution_count": 398,
      "outputs": []
    },
    {
      "cell_type": "code",
      "metadata": {
        "id": "4ydYR2QY5QCl",
        "colab_type": "code",
        "colab": {}
      },
      "source": [
        ""
      ],
      "execution_count": null,
      "outputs": []
    }
  ]
}