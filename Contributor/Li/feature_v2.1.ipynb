{
 "cells": [
  {
   "cell_type": "code",
   "execution_count": 5,
   "metadata": {},
   "outputs": [],
   "source": [
    "from IPython.core.interactiveshell import InteractiveShell\n",
    "InteractiveShell.ast_node_interactivity = \"last_expr\""
   ]
  },
  {
   "cell_type": "code",
   "execution_count": 6,
   "metadata": {},
   "outputs": [],
   "source": [
    "%matplotlib inline\n",
    "import sys,os\n",
    "import csv\n",
    "import pandas as pd\n",
    "import numpy as np\n",
    "\n",
    "import matplotlib.pyplot as plt"
   ]
  },
  {
   "cell_type": "code",
   "execution_count": 19,
   "metadata": {},
   "outputs": [
    {
     "name": "stdout",
     "output_type": "stream",
     "text": [
      "True\n",
      "True\n",
      "True\n"
     ]
    }
   ],
   "source": [
    "#file names for max, min and median datasets\n",
    "maxfile = '../../metop_rad_belt_max_vals_lagged_sw.csv'\n",
    "print(os.path.exists(maxfile))\n",
    "minfile = '../../metop_rad_belt_min_vals_lagged_sw.csv'\n",
    "print(os.path.exists(maxfile))\n",
    "medfile = '../../metop_rad_belt_median_vals_lagged_sw.csv'\n",
    "print(os.path.exists(maxfile))"
   ]
  },
  {
   "cell_type": "code",
   "execution_count": 28,
   "metadata": {},
   "outputs": [
    {
     "name": "stdout",
     "output_type": "stream",
     "text": [
      "Index(['max_dateTime', 'max_Kp', 'max_Dst', 'max_dens', 'max_velo', 'max_Pdyn',\n",
      "       'max_ByIMF', 'max_BzIMF', 'max_mep06', 'max_mep05',\n",
      "       ...\n",
      "       'med_ByIMF_lag4', 'med_ByIMF_lag5', 'med_ByIMF_lag6', 'med_BzIMF_lag0',\n",
      "       'med_BzIMF_lag1', 'med_BzIMF_lag2', 'med_BzIMF_lag3', 'med_BzIMF_lag4',\n",
      "       'med_BzIMF_lag5', 'med_BzIMF_lag6'],\n",
      "      dtype='object', length=153)\n"
     ]
    }
   ],
   "source": [
    "#read in and combine\n",
    "maxset = pd.read_csv(maxfile).add_prefix('max_')\n",
    "minset = pd.read_csv(minfile).add_prefix('min_')\n",
    "medset = pd.read_csv(medfile).add_prefix('med_')\n",
    "\n",
    "raw = pd.concat([maxset, minset, medset], axis=1)\n",
    "print(raw.columns)"
   ]
  },
  {
   "cell_type": "code",
   "execution_count": 42,
   "metadata": {},
   "outputs": [
    {
     "name": "stdout",
     "output_type": "stream",
     "text": [
      "['min_ByIMF_lag0', 'min_BzIMF_lag0', 'max_Pdyn_lag0', 'min_ByIMF_lag1', 'min_BzIMF_lag1', 'max_Pdyn_lag1', 'min_ByIMF_lag2', 'min_BzIMF_lag2', 'max_Pdyn_lag2', 'min_ByIMF_lag3', 'min_BzIMF_lag3', 'max_Pdyn_lag3', 'min_ByIMF_lag4', 'min_BzIMF_lag4', 'max_Pdyn_lag4', 'min_ByIMF_lag5', 'min_BzIMF_lag5', 'max_Pdyn_lag5', 'min_ByIMF_lag6', 'min_BzIMF_lag6', 'max_Pdyn_lag6', 'min_Dst', 'max_Kp', 'med_Lval', 'med_mlt']\n",
      "Index(['min_ByIMF_lag0', 'min_BzIMF_lag0', 'max_Pdyn_lag0', 'min_ByIMF_lag1',\n",
      "       'min_BzIMF_lag1', 'max_Pdyn_lag1', 'min_ByIMF_lag2', 'min_BzIMF_lag2',\n",
      "       'max_Pdyn_lag2', 'min_ByIMF_lag3', 'min_BzIMF_lag3', 'max_Pdyn_lag3',\n",
      "       'min_ByIMF_lag4', 'min_BzIMF_lag4', 'max_Pdyn_lag4', 'min_ByIMF_lag5',\n",
      "       'min_BzIMF_lag5', 'max_Pdyn_lag5', 'min_ByIMF_lag6', 'min_BzIMF_lag6',\n",
      "       'max_Pdyn_lag6', 'min_Dst', 'max_Kp', 'med_Lval', 'med_mlt',\n",
      "       'max_moment_lag0', 'max_moment_lag1', 'max_moment_lag2',\n",
      "       'max_moment_lag3', 'max_moment_lag4', 'max_moment_lag5',\n",
      "       'max_moment_lag6'],\n",
      "      dtype='object')\n"
     ]
    },
    {
     "name": "stderr",
     "output_type": "stream",
     "text": [
      "/opt/conda/envs/rapids/lib/python3.6/site-packages/ipykernel_launcher.py:15: SettingWithCopyWarning: \n",
      "A value is trying to be set on a copy of a slice from a DataFrame.\n",
      "Try using .loc[row_indexer,col_indexer] = value instead\n",
      "\n",
      "See the caveats in the documentation: http://pandas.pydata.org/pandas-docs/stable/user_guide/indexing.html#returning-a-view-versus-a-copy\n",
      "  from ipykernel import kernelapp as app\n"
     ]
    }
   ],
   "source": [
    "#variables with lags\n",
    "cols = ['min_ByIMF', 'min_BzIMF', 'max_Pdyn']\n",
    "X_cols = []\n",
    "for l in range(7):\n",
    "    for nm in cols:\n",
    "        X_cols.append(nm+'_lag'+str(l))\n",
    "        \n",
    "#variables w/o lags        \n",
    "add_cols = ['min_Dst','max_Kp', 'med_Lval', 'med_mlt']\n",
    "X_cols.extend(add_cols)\n",
    "print(X_cols)    \n",
    "Xs = raw[X_cols]\n",
    "\n",
    "#compute momentum\n",
    "for l in range(7):\n",
    "    oo = 'max_moment_lag'+str(l)\n",
    "    dens = 'max_dens_lag'+str(l)\n",
    "    vv = 'max_velo_lag'+str(l)\n",
    "    Xs[oo] = raw[dens]*raw[vv]\n",
    "    \n",
    "print(Xs.columns)"
   ]
  },
  {
   "cell_type": "code",
   "execution_count": 43,
   "metadata": {},
   "outputs": [],
   "source": [
    "#target variable to predict\n",
    "Y = raw.max_mep06"
   ]
  },
  {
   "cell_type": "code",
   "execution_count": 44,
   "metadata": {},
   "outputs": [],
   "source": [
    "#split data into train and test\n",
    "from sklearn.model_selection import train_test_split\n",
    "X_train, X_test, y_train, y_test = train_test_split(Xs, Y, test_size=0.2, random_state=43)"
   ]
  },
  {
   "cell_type": "code",
   "execution_count": 46,
   "metadata": {},
   "outputs": [
    {
     "data": {
      "text/plain": [
       "[<matplotlib.lines.Line2D at 0x7fea59a8d630>]"
      ]
     },
     "execution_count": 46,
     "metadata": {},
     "output_type": "execute_result"
    },
    {
     "data": {
      "image/png": "[encoded data removed]",
      "text/plain": [
       "<Figure size 432x288 with 1 Axes>"
      ]
     },
     "metadata": {
      "needs_background": "light"
     },
     "output_type": "display_data"
    }
   ],
   "source": [
    "#check impact of n_trees to the model test score\n",
    "from sklearn.ensemble import RandomForestRegressor\n",
    "\n",
    "estimators = np.arange(10, 100, 5)\n",
    "scores = []\n",
    "\n",
    "rf = RandomForestRegressor(n_jobs=-1)\n",
    "\n",
    "for n in estimators:\n",
    "    rf.set_params(n_estimators=n)\n",
    "    rf.fit(X_train, y_train)\n",
    "    scores.append(rf.score(X_test, y_test))\n",
    "\n",
    "plt.title(\"Effect of n_estimators\")\n",
    "plt.xlabel(\"n_estimator\")\n",
    "plt.ylabel(\"test score\")\n",
    "plt.plot(estimators, scores)"
   ]
  },
  {
   "cell_type": "code",
   "execution_count": 47,
   "metadata": {},
   "outputs": [],
   "source": [
    "#functions for drop column importance \n",
    "from sklearn.base import clone \n",
    "def imp_df(column_names, importances):\n",
    "    df = pd.DataFrame({'feature': column_names,\n",
    "                       'feature_importance': importances}) \\\n",
    "           .sort_values('feature_importance', ascending = False) \\\n",
    "           .reset_index(drop = True)\n",
    "    return df\n",
    "\n",
    "def drop_col_feat_imp(model, X_train, y_train, random_state = 42):\n",
    "    \n",
    "    # clone the model to have the exact same specification as the one initially trained\n",
    "    model_clone = clone(model)\n",
    "    # set random_state for comparability\n",
    "    model_clone.random_state = random_state\n",
    "    # training and scoring the benchmark model\n",
    "    model_clone.fit(X_train, y_train)\n",
    "    benchmark_score = model_clone.score(X_train, y_train)\n",
    "    # list for storing feature importances\n",
    "    importances = []\n",
    "    \n",
    "    # iterating over all columns and storing feature importance (difference between benchmark and new model)\n",
    "    for col in X_train.columns:\n",
    "        model_clone = clone(model)\n",
    "        model_clone.random_state = random_state\n",
    "        model_clone.fit(X_train.drop(col, axis = 1), y_train)\n",
    "        drop_col_score = model_clone.score(X_train.drop(col, axis = 1), y_train)\n",
    "        importances.append(benchmark_score - drop_col_score)\n",
    "    \n",
    "    importances_df = imp_df(X_train.columns, importances)\n",
    "    return importances_df"
   ]
  },
  {
   "cell_type": "code",
   "execution_count": 48,
   "metadata": {},
   "outputs": [],
   "source": [
    "importance_df = drop_col_feat_imp(rf, X_train, y_train)"
   ]
  },
  {
   "cell_type": "code",
   "execution_count": 49,
   "metadata": {},
   "outputs": [
    {
     "data": {
      "image/png": "[encoded data removed]",
      "text/plain": [
       "<Figure size 432x864 with 1 Axes>"
      ]
     },
     "metadata": {
      "needs_background": "light"
     },
     "output_type": "display_data"
    }
   ],
   "source": [
    "import seaborn as sns\n",
    "# plotting a feature importance dataframe (horizontal barchart)\n",
    "def var_imp_plot(imp_df, title):\n",
    "    imp_df.columns = ['feature', 'feature_importance']\n",
    "    sns.barplot(x = 'feature_importance', y = 'feature', data = imp_df, orient = 'h', color = 'royalblue') \\\n",
    "       .set_title(title, fontsize = 15)\n",
    "plt.figure(figsize=(6,12))\n",
    "var_imp_plot(importance_df, 'Drop Column importance')"
   ]
  },
  {
   "cell_type": "code",
   "execution_count": 50,
   "metadata": {},
   "outputs": [
    {
     "name": "stdout",
     "output_type": "stream",
     "text": [
      "['min_ByIMF_lag6' 'med_mlt' 'max_Pdyn_lag5' 'max_Pdyn_lag6' 'med_Lval'\n",
      " 'max_Pdyn_lag3' 'min_ByIMF_lag5' 'min_BzIMF_lag2' 'min_ByIMF_lag2'\n",
      " 'min_BzIMF_lag4']\n"
     ]
    }
   ],
   "source": [
    "#pick top 10 features\n",
    "sel_cols = importance_df.feature[:10].values\n",
    "print(sel_cols)"
   ]
  },
  {
   "cell_type": "code",
   "execution_count": 52,
   "metadata": {},
   "outputs": [
    {
     "data": {
      "text/plain": [
       "[<matplotlib.lines.Line2D at 0x7fea5ab0a898>]"
      ]
     },
     "execution_count": 52,
     "metadata": {},
     "output_type": "execute_result"
    },
    {
     "data": {
      "image/png": "[encoded data removed]",
      "text/plain": [
       "<Figure size 432x288 with 1 Axes>"
      ]
     },
     "metadata": {
      "needs_background": "light"
     },
     "output_type": "display_data"
    }
   ],
   "source": [
    "# re-train model with top 10 and show score vs n-trees\n",
    "X_train, X_test, y_train, y_test = train_test_split(Xs[sel_cols], \n",
    "                 raw.max_mep06, test_size=0.2, random_state=43)\n",
    "\n",
    "estimators = np.arange(10, 100, 5)\n",
    "scores = []\n",
    "rf = RandomForestRegressor(n_jobs=-1)\n",
    "\n",
    "for n in estimators:\n",
    "    rf.set_params(n_estimators=n)\n",
    "    rf.fit(X_train, y_train)\n",
    "    scores.append(rf.score(X_test, y_test))\n",
    "\n",
    "plt.title(\"Effect of n_estimators\")\n",
    "plt.xlabel(\"n_estimator\")\n",
    "plt.ylabel(\"test score\")\n",
    "plt.plot(estimators, scores)"
   ]
  },
  {
   "cell_type": "code",
   "execution_count": 53,
   "metadata": {},
   "outputs": [
    {
     "name": "stdout",
     "output_type": "stream",
     "text": [
      "0.05946499936259264\n"
     ]
    }
   ],
   "source": [
    "print(max(scores))"
   ]
  },
  {
   "cell_type": "code",
   "execution_count": 56,
   "metadata": {},
   "outputs": [],
   "source": [
    "#conduct Randomized Search to find the best model\n",
    "from sklearn.model_selection import RandomizedSearchCV\n",
    "# Number of trees in random forest\n",
    "n_estimators = [int(x) for x in np.linspace(start = 10, stop = 200, num = 20)]\n",
    "# Number of features to consider at every split\n",
    "max_features = ['auto', 'sqrt']\n",
    "# Maximum number of levels in tree\n",
    "max_depth = [int(x) for x in np.linspace(2, 16, num = 8)]\n",
    "max_depth.append(None)\n",
    "# Minimum number of samples required to split a node\n",
    "min_samples_split = [2, 5, 10]\n",
    "# Minimum number of samples required at each leaf node\n",
    "min_samples_leaf = [1, 2, 4]\n",
    "# Method of selecting samples for training each tree\n",
    "bootstrap = [True, False]# Create the random grid\n",
    "random_grid = {'n_estimators': n_estimators,\n",
    "               'max_features': max_features,\n",
    "               'max_depth': max_depth,\n",
    "               'min_samples_split': min_samples_split,\n",
    "               'min_samples_leaf': min_samples_leaf,\n",
    "               'bootstrap': bootstrap}"
   ]
  },
  {
   "cell_type": "code",
   "execution_count": 57,
   "metadata": {},
   "outputs": [
    {
     "name": "stdout",
     "output_type": "stream",
     "text": [
      "Fitting 3 folds for each of 100 candidates, totalling 300 fits\n"
     ]
    },
    {
     "name": "stderr",
     "output_type": "stream",
     "text": [
      "[Parallel(n_jobs=-1)]: Using backend LokyBackend with 2 concurrent workers.\n",
      "[Parallel(n_jobs=-1)]: Done  37 tasks      | elapsed:    7.5s\n",
      "[Parallel(n_jobs=-1)]: Done 158 tasks      | elapsed:   28.1s\n"
     ]
    },
    {
     "name": "stdout",
     "output_type": "stream",
     "text": [
      "{'n_estimators': 70, 'min_samples_split': 10, 'min_samples_leaf': 4, 'max_features': 'sqrt', 'max_depth': 2, 'bootstrap': True}\n"
     ]
    },
    {
     "name": "stderr",
     "output_type": "stream",
     "text": [
      "[Parallel(n_jobs=-1)]: Done 300 out of 300 | elapsed:   59.8s finished\n"
     ]
    }
   ],
   "source": [
    "rf_new = RandomForestRegressor()\n",
    "rf_random = RandomizedSearchCV(estimator = rf_new, \n",
    "                               param_distributions = random_grid, \n",
    "                               n_iter = 100, cv = 3, verbose=2, \n",
    "                               random_state=42, n_jobs = -1)\n",
    "rf_random.fit(Xs[sel_cols], raw.max_mep06)\n",
    "print(rf_random.best_params_)"
   ]
  },
  {
   "cell_type": "code",
   "execution_count": 59,
   "metadata": {},
   "outputs": [
    {
     "name": "stdout",
     "output_type": "stream",
     "text": [
      "RandomForestRegressor(max_depth=2, max_features='sqrt', min_samples_leaf=4,\n",
      "                      min_samples_split=10, n_estimators=70)\n"
     ]
    }
   ],
   "source": [
    "print(rf_random.best_estimator_)"
   ]
  },
  {
   "cell_type": "code",
   "execution_count": 61,
   "metadata": {},
   "outputs": [
    {
     "name": "stdout",
     "output_type": "stream",
     "text": [
      "benchmark model mae 0.9645\n",
      "best model mae 0.7791\n"
     ]
    }
   ],
   "source": [
    "#compare base model vs best model\n",
    "from sklearn import metrics\n",
    "base_model = RandomForestRegressor(n_estimators = 10, random_state=42)\n",
    "base_model.fit(X_train, y_train)\n",
    "pred_test = base_model.predict(X_test)\n",
    "mae = metrics.mean_absolute_error(y_test, pred_test)\n",
    "print('benchmark model mae {:0.4f}'.format(mae))\n",
    "best_random = rf_random.best_estimator_\n",
    "pred_test = best_random.predict(X_test)\n",
    "mae = metrics.mean_absolute_error(y_test, pred_test)\n",
    "print('best model mae {:0.4f}'.format(mae))"
   ]
  },
  {
   "cell_type": "code",
   "execution_count": null,
   "metadata": {},
   "outputs": [],
   "source": []
  }
 ],
 "metadata": {
  "kernelspec": {
   "display_name": "Python 3",
   "language": "python",
   "name": "python3"
  },
  "language_info": {
   "codemirror_mode": {
    "name": "ipython",
    "version": 3
   },
   "file_extension": ".py",
   "mimetype": "text/x-python",
   "name": "python",
   "nbconvert_exporter": "python",
   "pygments_lexer": "ipython3",
   "version": "3.6.10"
  }
 },
 "nbformat": 4,
 "nbformat_minor": 4
}
